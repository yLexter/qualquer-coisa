{
 "cells": [
  {
   "cell_type": "code",
   "id": "initial_id",
   "metadata": {
    "collapsed": true,
    "jupyter": {
     "is_executing": true
    }
   },
   "source": "from minio import Minio",
   "outputs": [],
   "execution_count": null
  },
  {
   "metadata": {
    "ExecuteTime": {
     "end_time": "2024-05-28T17:25:40.553579Z",
     "start_time": "2024-05-28T17:25:40.527560Z"
    }
   },
   "cell_type": "code",
   "source": [
    "client = Minio(\"10.100.100.61:9000\", secure=False,\n",
    "                   access_key=\"EsVj1dnneqMciIYcBbhR\",\n",
    "                   secret_key=\"oolW2uY06jXIoE2oMNeE8MSgskzuz14HaFYdhEh7\",\n",
    "                   )"
   ],
   "id": "1862a249edd3e5d7",
   "outputs": [
    {
     "ename": "NameError",
     "evalue": "name 'Minio' is not defined",
     "output_type": "error",
     "traceback": [
      "\u001B[0;31m---------------------------------------------------------------------------\u001B[0m",
      "\u001B[0;31mNameError\u001B[0m                                 Traceback (most recent call last)",
      "Cell \u001B[0;32mIn[4], line 1\u001B[0m\n\u001B[0;32m----> 1\u001B[0m client \u001B[38;5;241m=\u001B[39m \u001B[43mMinio\u001B[49m(\u001B[38;5;124m\"\u001B[39m\u001B[38;5;124m10.100.100.61:9000\u001B[39m\u001B[38;5;124m\"\u001B[39m, secure\u001B[38;5;241m=\u001B[39m\u001B[38;5;28;01mFalse\u001B[39;00m,\n\u001B[1;32m      2\u001B[0m                    access_key\u001B[38;5;241m=\u001B[39m\u001B[38;5;124m\"\u001B[39m\u001B[38;5;124mEsVj1dnneqMciIYcBbhR\u001B[39m\u001B[38;5;124m\"\u001B[39m,\n\u001B[1;32m      3\u001B[0m                    secret_key\u001B[38;5;241m=\u001B[39m\u001B[38;5;124m\"\u001B[39m\u001B[38;5;124moolW2uY06jXIoE2oMNeE8MSgskzuz14HaFYdhEh7\u001B[39m\u001B[38;5;124m\"\u001B[39m,\n\u001B[1;32m      4\u001B[0m                    )\n",
      "\u001B[0;31mNameError\u001B[0m: name 'Minio' is not defined"
     ]
    }
   ],
   "execution_count": 4
  },
  {
   "metadata": {
    "ExecuteTime": {
     "end_time": "2024-05-28T17:25:41.403014Z",
     "start_time": "2024-05-28T17:25:41.395336Z"
    }
   },
   "cell_type": "code",
   "source": [
    "# The file to upload, change this path if needed\n",
    "source_file = \"test-file.txt\"\n",
    "\n",
    "# The destination bucket and filename on the MinIO server\n",
    "bucket_name = \"primeiro\"\n",
    "destination_file = \"fabio-file.txt\""
   ],
   "id": "b470019403d6e60b",
   "outputs": [],
   "execution_count": 5
  },
  {
   "metadata": {
    "ExecuteTime": {
     "end_time": "2024-05-28T17:25:41.567956Z",
     "start_time": "2024-05-28T17:25:41.536829Z"
    }
   },
   "cell_type": "code",
   "source": [
    "# Make the bucket if it doesn't exist.\n",
    "found = client.bucket_exists(bucket_name)\n",
    "if not found:\n",
    "    client.make_bucket(bucket_name)\n",
    "    print(\"Created bucket\", bucket_name)\n",
    "else:\n",
    "    print(\"Bucket\", bucket_name, \"already exists\")"
   ],
   "id": "3c2c03470876f595",
   "outputs": [
    {
     "ename": "NameError",
     "evalue": "name 'client' is not defined",
     "output_type": "error",
     "traceback": [
      "\u001B[0;31m---------------------------------------------------------------------------\u001B[0m",
      "\u001B[0;31mNameError\u001B[0m                                 Traceback (most recent call last)",
      "Cell \u001B[0;32mIn[6], line 2\u001B[0m\n\u001B[1;32m      1\u001B[0m \u001B[38;5;66;03m# Make the bucket if it doesn't exist.\u001B[39;00m\n\u001B[0;32m----> 2\u001B[0m found \u001B[38;5;241m=\u001B[39m \u001B[43mclient\u001B[49m\u001B[38;5;241m.\u001B[39mbucket_exists(bucket_name)\n\u001B[1;32m      3\u001B[0m \u001B[38;5;28;01mif\u001B[39;00m \u001B[38;5;129;01mnot\u001B[39;00m found:\n\u001B[1;32m      4\u001B[0m     client\u001B[38;5;241m.\u001B[39mmake_bucket(bucket_name)\n",
      "\u001B[0;31mNameError\u001B[0m: name 'client' is not defined"
     ]
    }
   ],
   "execution_count": 6
  },
  {
   "metadata": {},
   "cell_type": "code",
   "outputs": [],
   "execution_count": null,
   "source": [
    "# Upload the file, renaming it in the process\n",
    "client.fput_object(\n",
    "    bucket_name, destination_file, source_file,\n",
    ")\n",
    "print(\n",
    "    source_file, \"successfully uploaded as object\",\n",
    "    destination_file, \"to bucket\", bucket_name,\n",
    ")"
   ],
   "id": "805442051b3f1612"
  }
 ],
 "metadata": {
  "kernelspec": {
   "display_name": "Python 3",
   "language": "python",
   "name": "python3"
  },
  "language_info": {
   "codemirror_mode": {
    "name": "ipython",
    "version": 2
   },
   "file_extension": ".py",
   "mimetype": "text/x-python",
   "name": "python",
   "nbconvert_exporter": "python",
   "pygments_lexer": "ipython2",
   "version": "2.7.6"
  }
 },
 "nbformat": 4,
 "nbformat_minor": 5
}
